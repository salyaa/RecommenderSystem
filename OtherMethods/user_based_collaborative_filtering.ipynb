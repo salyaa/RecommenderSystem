{
 "cells": [
  {
   "cell_type": "markdown",
   "metadata": {},
   "source": [
    "# User based collaborative filtering"
   ]
  },
  {
   "cell_type": "code",
   "execution_count": 1,
   "metadata": {},
   "outputs": [],
   "source": [
    "import pandas as pd\n",
    "import numpy as np\n",
    "from sklearn.metrics.pairwise import cosine_similarity"
   ]
  },
  {
   "cell_type": "markdown",
   "metadata": {},
   "source": [
    "Get the data into pandas dataframes"
   ]
  },
  {
   "cell_type": "code",
   "execution_count": 2,
   "metadata": {},
   "outputs": [],
   "source": [
    "FOLDER_PATH = 'Data/'\n",
    "books = pd.read_csv(FOLDER_PATH + 'books.csv')\n",
    "sample_submission = pd.read_csv(FOLDER_PATH + 'sample_submission.csv')\n",
    "test = pd.read_csv(FOLDER_PATH + 'test.csv')\n",
    "train = pd.read_csv(FOLDER_PATH + 'train.csv')"
   ]
  },
  {
   "cell_type": "markdown",
   "metadata": {},
   "source": [
    "Create the user-item matrix"
   ]
  },
  {
   "cell_type": "code",
   "execution_count": 3,
   "metadata": {},
   "outputs": [],
   "source": [
    "# Create a user-item matrix where the rows are comprised of user_ids\n",
    "# and the columns of book_ids. The values are the ratings\n",
    "user_item_matrix = train.pivot(index='user_id', columns='book_id', values='rating')\n",
    "user_item_matrix = user_item_matrix.fillna(0)"
   ]
  },
  {
   "cell_type": "markdown",
   "metadata": {},
   "source": [
    "Calculate the User Similarity matrix using cosine similarity"
   ]
  },
  {
   "cell_type": "code",
   "execution_count": 4,
   "metadata": {},
   "outputs": [],
   "source": [
    "# Use the sklearn function in order to get the cosine similarity between each user\n",
    "user_similarity = cosine_similarity(user_item_matrix)\n",
    "user_similarity_df = pd.DataFrame(user_similarity, index=user_item_matrix.index, columns=user_item_matrix.index)"
   ]
  },
  {
   "cell_type": "markdown",
   "metadata": {},
   "source": [
    "Center the mean of the ratings for each user"
   ]
  },
  {
   "cell_type": "code",
   "execution_count": null,
   "metadata": {},
   "outputs": [],
   "source": [
    "def mean_center_ignore_zeros(user_item_matrix):\n",
    "    user_item_matrix_np = user_item_matrix.values\n",
    "    \n",
    "    # Calculate mean ratings ignoring zero values, which is important in order to adjust \n",
    "    # user preferences subjectivity in terms of their ratins, as some may be harsher than others\n",
    "    \n",
    "    # Sum of ratings per user\n",
    "    row_sums = user_item_matrix_np.sum(axis=1) \n",
    "    # Number of non-zero ratings per user\n",
    "    row_counts = (user_item_matrix_np > 0).sum(axis=1)  \n",
    "    user_means = np.divide(row_sums, row_counts, out=np.zeros_like(row_sums, dtype=float), where=row_counts != 0)  # Avoid division by zero\n",
    "\n",
    "    # Center the matrix by subtracting the mean (only for non-zero entries)\n",
    "    centered_matrix = user_item_matrix_np - user_means[:, np.newaxis]\n",
    "    # Keep the zero entries\n",
    "    centered_matrix[user_item_matrix_np == 0] = 0 \n",
    "\n",
    "    centered_df = pd.DataFrame(centered_matrix, index=user_item_matrix.index, columns=user_item_matrix.columns)\n",
    "    \n",
    "    return centered_df, user_means"
   ]
  },
  {
   "cell_type": "markdown",
   "metadata": {},
   "source": [
    "Create a matrix with all the predicted ratings"
   ]
  },
  {
   "cell_type": "code",
   "execution_count": null,
   "metadata": {},
   "outputs": [],
   "source": [
    "def predict_ratings(user_item_matrix, user_similarity_df, k=10):\n",
    "    user_item_matrix_np = user_item_matrix.values\n",
    "    user_similarity_np = user_similarity_df.values\n",
    "    normalized_matrix, user_means = mean_center_ignore_zeros(user_item_matrix)\n",
    "    normalized_matrix_np = normalized_matrix.values\n",
    "   \n",
    "    # Apply top-k filtering to similarity matrix\n",
    "    top_k_similarities = np.zeros_like(user_similarity_np)\n",
    "    for i in range(user_similarity_np.shape[0]):\n",
    "        top_k_indices = np.argsort(-user_similarity_np[i])[:k]\n",
    "        top_k_similarities[i, top_k_indices] = user_similarity_np[i, top_k_indices]\n",
    "    \n",
    "    weighted_sum = top_k_similarities.dot(normalized_matrix_np)\n",
    "    sum_of_similarities = np.abs(top_k_similarities).dot((user_item_matrix_np > 0).astype(float))\n",
    "    # Avoid division by zero\n",
    "    sum_of_similarities[sum_of_similarities == 0] = 1e-8\n",
    "    predicted_ratings_np = (weighted_sum / sum_of_similarities) + user_means[:, np.newaxis]\n",
    "    # In case any ratings are outside the 1-5 range, readjust them\n",
    "    predicted_ratings_np = np.clip(predicted_ratings_np, 1, 5)\n",
    "    predicted_ratings = pd.DataFrame(predicted_ratings_np, index=user_item_matrix.index, columns=user_item_matrix.columns)\n",
    "    \n",
    "    return predicted_ratings\n",
    "\n",
    "predicted_ratings = predict_ratings(user_item_matrix, user_similarity_df)"
   ]
  },
  {
   "cell_type": "markdown",
   "metadata": {},
   "source": [
    "Create a function that creates the sumbission.csv file"
   ]
  },
  {
   "cell_type": "code",
   "execution_count": null,
   "metadata": {},
   "outputs": [],
   "source": [
    "def make_submission(predicted_ratings):\n",
    "    submission = []\n",
    "    for index, row in test.iterrows():\n",
    "        user_id = row['user_id']\n",
    "        book_id = row['book_id']\n",
    "        unique_id = row['id']  \n",
    "        predicted_rating = predicted_ratings.loc[user_id, book_id]\n",
    "        submission.append({'id': int(unique_id), 'rating': predicted_rating})\n",
    "    submission_df = pd.DataFrame(submission)\n",
    "    return submission_df\n",
    "\n",
    "submissions_df = make_submission(predicted_ratings)\n",
    "submissions_df.to_csv('submission_user_cf.csv', index=False)"
   ]
  }
 ],
 "metadata": {
  "kernelspec": {
   "display_name": "disprojectii",
   "language": "python",
   "name": "python3"
  },
  "language_info": {
   "codemirror_mode": {
    "name": "ipython",
    "version": 3
   },
   "file_extension": ".py",
   "mimetype": "text/x-python",
   "name": "python",
   "nbconvert_exporter": "python",
   "pygments_lexer": "ipython3",
   "version": "3.12.3"
  }
 },
 "nbformat": 4,
 "nbformat_minor": 2
}
