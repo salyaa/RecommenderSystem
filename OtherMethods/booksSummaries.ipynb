{
 "cells": [
  {
   "cell_type": "markdown",
   "metadata": {},
   "source": [
    "## Notebook to obtain main subjects of each book (if possible) using a public API"
   ]
  },
  {
   "cell_type": "code",
   "execution_count": 2,
   "metadata": {},
   "outputs": [
    {
     "name": "stdout",
     "output_type": "stream",
     "text": [
      "The autoreload extension is already loaded. To reload it, use:\n",
      "  %reload_ext autoreload\n"
     ]
    }
   ],
   "source": [
    "import pandas as pd \n",
    "import numpy as np \n",
    "import requests\n",
    "\n",
    "%load_ext autoreload\n",
    "%autoreload 2"
   ]
  },
  {
   "cell_type": "code",
   "execution_count": 26,
   "metadata": {},
   "outputs": [],
   "source": [
    "def get_summary(isbn):\n",
    "    url = f\"https://openlibrary.org/api/books?bibkeys=ISBN:{isbn}&jscmd=data&format=json\"\n",
    "    response = requests.get(url)\n",
    "    if response.status_code == 200:\n",
    "        data = response.json()\n",
    "        book_key = f\"ISBN:{isbn}\"\n",
    "        if book_key in data:\n",
    "            book_data = data[book_key]\n",
    "            title = book_data.get(\"title\", \"No Title Available\")\n",
    "            subjects = book_data.get(\"subjects\", [])\n",
    "            summary = [subject.get(\"name\", \"No Subject Name\") for subject in subjects] if subjects else [\"No Summary Available\"]\n",
    "            return {\"title\": title, \"summary\": summary}\n",
    "        else:\n",
    "            return {\"title\": \"Not Found\", \"summary\": \"Not Found\"}\n",
    "    else:\n",
    "        return {\"title\": \"Error\", \"summary\": \"API Error\"}"
   ]
  },
  {
   "cell_type": "code",
   "execution_count": 4,
   "metadata": {},
   "outputs": [],
   "source": [
    "books = pd.read_csv(\"Data/books.csv\")\n",
    "train = pd.read_csv(\"Data/train.csv\")\n",
    "test = pd.read_csv(\"Data/test.csv\")"
   ]
  },
  {
   "cell_type": "code",
   "execution_count": 5,
   "metadata": {},
   "outputs": [
    {
     "data": {
      "text/html": [
       "<div>\n",
       "<style scoped>\n",
       "    .dataframe tbody tr th:only-of-type {\n",
       "        vertical-align: middle;\n",
       "    }\n",
       "\n",
       "    .dataframe tbody tr th {\n",
       "        vertical-align: top;\n",
       "    }\n",
       "\n",
       "    .dataframe thead th {\n",
       "        text-align: right;\n",
       "    }\n",
       "</style>\n",
       "<table border=\"1\" class=\"dataframe\">\n",
       "  <thead>\n",
       "    <tr style=\"text-align: right;\">\n",
       "      <th></th>\n",
       "      <th>book_id</th>\n",
       "      <th>user_id</th>\n",
       "      <th>rating</th>\n",
       "      <th>ISBN</th>\n",
       "    </tr>\n",
       "  </thead>\n",
       "  <tbody>\n",
       "    <tr>\n",
       "      <th>0</th>\n",
       "      <td>7260</td>\n",
       "      <td>20145</td>\n",
       "      <td>3.5</td>\n",
       "      <td>0316171638</td>\n",
       "    </tr>\n",
       "    <tr>\n",
       "      <th>1</th>\n",
       "      <td>243238</td>\n",
       "      <td>85182</td>\n",
       "      <td>4.0</td>\n",
       "      <td>316166685</td>\n",
       "    </tr>\n",
       "    <tr>\n",
       "      <th>2</th>\n",
       "      <td>9135</td>\n",
       "      <td>45973</td>\n",
       "      <td>1.0</td>\n",
       "      <td>0446692298</td>\n",
       "    </tr>\n",
       "    <tr>\n",
       "      <th>3</th>\n",
       "      <td>18671</td>\n",
       "      <td>63554</td>\n",
       "      <td>3.0</td>\n",
       "      <td>0440944597</td>\n",
       "    </tr>\n",
       "    <tr>\n",
       "      <th>4</th>\n",
       "      <td>243293</td>\n",
       "      <td>81002</td>\n",
       "      <td>5.0</td>\n",
       "      <td>439244196</td>\n",
       "    </tr>\n",
       "  </tbody>\n",
       "</table>\n",
       "</div>"
      ],
      "text/plain": [
       "   book_id  user_id  rating        ISBN\n",
       "0     7260    20145     3.5  0316171638\n",
       "1   243238    85182     4.0   316166685\n",
       "2     9135    45973     1.0  0446692298\n",
       "3    18671    63554     3.0  0440944597\n",
       "4   243293    81002     5.0   439244196"
      ]
     },
     "execution_count": 5,
     "metadata": {},
     "output_type": "execute_result"
    }
   ],
   "source": [
    "newTrain = train.merge(books, left_on=\"book_id\", right_on=\"book_id\")\n",
    "newTrain.head()"
   ]
  },
  {
   "cell_type": "code",
   "execution_count": 6,
   "metadata": {},
   "outputs": [
    {
     "data": {
      "text/html": [
       "<div>\n",
       "<style scoped>\n",
       "    .dataframe tbody tr th:only-of-type {\n",
       "        vertical-align: middle;\n",
       "    }\n",
       "\n",
       "    .dataframe tbody tr th {\n",
       "        vertical-align: top;\n",
       "    }\n",
       "\n",
       "    .dataframe thead th {\n",
       "        text-align: right;\n",
       "    }\n",
       "</style>\n",
       "<table border=\"1\" class=\"dataframe\">\n",
       "  <thead>\n",
       "    <tr style=\"text-align: right;\">\n",
       "      <th></th>\n",
       "      <th>id</th>\n",
       "      <th>book_id</th>\n",
       "      <th>user_id</th>\n",
       "      <th>ISBN</th>\n",
       "    </tr>\n",
       "  </thead>\n",
       "  <tbody>\n",
       "    <tr>\n",
       "      <th>0</th>\n",
       "      <td>0</td>\n",
       "      <td>3786</td>\n",
       "      <td>40484</td>\n",
       "      <td>0375504397</td>\n",
       "    </tr>\n",
       "    <tr>\n",
       "      <th>1</th>\n",
       "      <td>1</td>\n",
       "      <td>1985</td>\n",
       "      <td>47039</td>\n",
       "      <td>0449212602</td>\n",
       "    </tr>\n",
       "    <tr>\n",
       "      <th>2</th>\n",
       "      <td>2</td>\n",
       "      <td>2290</td>\n",
       "      <td>60111</td>\n",
       "      <td>0385484518</td>\n",
       "    </tr>\n",
       "    <tr>\n",
       "      <th>3</th>\n",
       "      <td>3</td>\n",
       "      <td>118657</td>\n",
       "      <td>64447</td>\n",
       "      <td>0380776162</td>\n",
       "    </tr>\n",
       "    <tr>\n",
       "      <th>4</th>\n",
       "      <td>4</td>\n",
       "      <td>1560</td>\n",
       "      <td>2953</td>\n",
       "      <td>0452281784</td>\n",
       "    </tr>\n",
       "  </tbody>\n",
       "</table>\n",
       "</div>"
      ],
      "text/plain": [
       "   id  book_id  user_id        ISBN\n",
       "0   0     3786    40484  0375504397\n",
       "1   1     1985    47039  0449212602\n",
       "2   2     2290    60111  0385484518\n",
       "3   3   118657    64447  0380776162\n",
       "4   4     1560     2953  0452281784"
      ]
     },
     "execution_count": 6,
     "metadata": {},
     "output_type": "execute_result"
    }
   ],
   "source": [
    "newTest = test.merge(books, left_on=\"book_id\", right_on=\"book_id\")\n",
    "newTest.head()"
   ]
  },
  {
   "cell_type": "code",
   "execution_count": 7,
   "metadata": {},
   "outputs": [],
   "source": [
    "train_isbn = newTrain[\"ISBN\"].unique()\n",
    "test_isbn = newTest[\"ISBN\"].unique()"
   ]
  },
  {
   "cell_type": "markdown",
   "metadata": {},
   "source": [
    "Some ISBN values are not correct: either NaN or missing 0 at the beginning. So we have to take care of it, which we do here."
   ]
  },
  {
   "cell_type": "code",
   "execution_count": 9,
   "metadata": {},
   "outputs": [
    {
     "data": {
      "text/plain": [
       "3612"
      ]
     },
     "execution_count": 9,
     "metadata": {},
     "output_type": "execute_result"
    }
   ],
   "source": [
    "not_valid_isbn_train = [(i, isbn) for i, isbn in enumerate(train_isbn) if len(str(isbn)) != 10]\n",
    "len(not_valid_isbn_train)"
   ]
  },
  {
   "cell_type": "code",
   "execution_count": 10,
   "metadata": {},
   "outputs": [
    {
     "data": {
      "text/plain": [
       "563"
      ]
     },
     "execution_count": 10,
     "metadata": {},
     "output_type": "execute_result"
    }
   ],
   "source": [
    "not_valid_isbn_test = [(i, isbn) for i, isbn in enumerate(test_isbn) if len(str(isbn)) != 10]\n",
    "len(not_valid_isbn_test)"
   ]
  },
  {
   "cell_type": "code",
   "execution_count": 11,
   "metadata": {},
   "outputs": [
    {
     "name": "stdout",
     "output_type": "stream",
     "text": [
      "15421\n"
     ]
    }
   ],
   "source": [
    "for i, isbn in not_valid_isbn_train:\n",
    "    if str(isbn) == \"nan\":\n",
    "        train_isbn[i] = \"Not Found\"\n",
    "    else:\n",
    "        train_isbn[i] = str(isbn).zfill(10)\n",
    "print(len(train_isbn))"
   ]
  },
  {
   "cell_type": "code",
   "execution_count": 12,
   "metadata": {},
   "outputs": [
    {
     "name": "stdout",
     "output_type": "stream",
     "text": [
      "9348\n"
     ]
    }
   ],
   "source": [
    "for i, isbn in not_valid_isbn_test:\n",
    "    if str(isbn) == \"nan\":\n",
    "        test_isbn[i] = \"Not Found\"\n",
    "    else:\n",
    "        test_isbn[i] = str(isbn).zfill(10)\n",
    "print(len(test_isbn))"
   ]
  },
  {
   "cell_type": "code",
   "execution_count": 30,
   "metadata": {},
   "outputs": [
    {
     "data": {
      "text/plain": [
       "{'title': \"Bridget Jones's Diary\",\n",
       " 'summary': ['single women',\n",
       "  'Diary fiction',\n",
       "  'Humorous fiction',\n",
       "  'Fiction',\n",
       "  'Humorous stories',\n",
       "  'human relationships',\n",
       "  'Humour',\n",
       "  'Dieting for women',\n",
       "  'Publishing',\n",
       "  'English Humous fiction',\n",
       "  'Women',\n",
       "  'English Diary novels',\n",
       "  'Open Library Staff Picks',\n",
       "  'Triangles (Interpersonal relations)',\n",
       "  'Office romance',\n",
       "  'Friendship',\n",
       "  'Single people',\n",
       "  'Dating (Social customs)',\n",
       "  'Ficción',\n",
       "  'Solteras',\n",
       "  'Single women -- England -- Fiction',\n",
       "  'Fiction, humorous',\n",
       "  'Single women, fiction',\n",
       "  'Fiction, women',\n",
       "  'Jones, bridget (fictitious character), fiction',\n",
       "  'London (england), fiction',\n",
       "  'English literature',\n",
       "  'Large type books',\n",
       "  'Novela',\n",
       "  'Junge Frau',\n",
       "  'Partnerwahl',\n",
       "  'New York Times reviewed',\n",
       "  'Fiction, humorous, general',\n",
       "  'England, fiction',\n",
       "  'Femmes seules',\n",
       "  'Romans, nouvelles',\n",
       "  'Social life and customs',\n",
       "  'Diaries',\n",
       "  'Bridget Jones (Fictitious character)']}"
      ]
     },
     "execution_count": 30,
     "metadata": {},
     "output_type": "execute_result"
    }
   ],
   "source": [
    "# Example of format of the output\n",
    "get_summary(train_isbn[90])"
   ]
  },
  {
   "cell_type": "markdown",
   "metadata": {},
   "source": [
    "Now, get the subjects for the books, when possible (takes some time)."
   ]
  },
  {
   "cell_type": "code",
   "execution_count": null,
   "metadata": {},
   "outputs": [],
   "source": [
    "for isbn in test_isbn:\n",
    "    summary = get_summary(isbn)\n",
    "    newTest.loc[newTest[\"ISBN\"] == isbn, \"title\"] = summary[\"title\"]\n",
    "    newTest.loc[newTest[\"ISBN\"] == isbn, \"summary\"] = \", \".join(summary[\"summary\"])"
   ]
  },
  {
   "cell_type": "code",
   "execution_count": null,
   "metadata": {},
   "outputs": [],
   "source": [
    "for isbn in train_isbn:\n",
    "    summary = get_summary(isbn)\n",
    "    newTrain.loc[newTrain[\"ISBN\"] == isbn, \"title\"] = summary[\"title\"]\n",
    "    newTrain.loc[newTrain[\"ISBN\"] == isbn, \"summary\"] = \", \".join(summary[\"summary\"])\n"
   ]
  },
  {
   "cell_type": "code",
   "execution_count": null,
   "metadata": {},
   "outputs": [],
   "source": [
    "newTrain.as_csv(\"Data/train_with_subjects.csv\", index=False)\n",
    "newTest.as_csv(\"Data/test_with_subjects.csv\", index=False)"
   ]
  },
  {
   "cell_type": "code",
   "execution_count": null,
   "metadata": {},
   "outputs": [],
   "source": []
  }
 ],
 "metadata": {
  "kernelspec": {
   "display_name": "myenv",
   "language": "python",
   "name": "python3"
  },
  "language_info": {
   "codemirror_mode": {
    "name": "ipython",
    "version": 3
   },
   "file_extension": ".py",
   "mimetype": "text/x-python",
   "name": "python",
   "nbconvert_exporter": "python",
   "pygments_lexer": "ipython3",
   "version": "3.9.18"
  }
 },
 "nbformat": 4,
 "nbformat_minor": 2
}
