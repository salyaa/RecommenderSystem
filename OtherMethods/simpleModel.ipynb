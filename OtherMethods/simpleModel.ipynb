{
 "cells": [
  {
   "cell_type": "code",
   "execution_count": 1,
   "metadata": {},
   "outputs": [],
   "source": [
    "import pandas as pd \n",
    "import numpy as np\n",
    "from sklearn.linear_model import LinearRegression\n",
    "from sklearn import svm\n",
    "from sklearn.metrics import mean_squared_error\n",
    "%load_ext autoreload\n",
    "%autoreload 2"
   ]
  },
  {
   "cell_type": "code",
   "execution_count": 2,
   "metadata": {},
   "outputs": [],
   "source": [
    "DATA_PATH = 'Data/'\n",
    "books = pd.read_csv(DATA_PATH + 'books.csv')\n",
    "sample_submission = pd.read_csv(DATA_PATH + 'sample_submission.csv')\n",
    "test = pd.read_csv(DATA_PATH + 'test.csv')\n",
    "train = pd.read_csv(DATA_PATH + 'train.csv')"
   ]
  },
  {
   "cell_type": "code",
   "execution_count": 3,
   "metadata": {},
   "outputs": [
    {
     "data": {
      "text/html": [
       "<div>\n",
       "<style scoped>\n",
       "    .dataframe tbody tr th:only-of-type {\n",
       "        vertical-align: middle;\n",
       "    }\n",
       "\n",
       "    .dataframe tbody tr th {\n",
       "        vertical-align: top;\n",
       "    }\n",
       "\n",
       "    .dataframe thead th {\n",
       "        text-align: right;\n",
       "    }\n",
       "</style>\n",
       "<table border=\"1\" class=\"dataframe\">\n",
       "  <thead>\n",
       "    <tr style=\"text-align: right;\">\n",
       "      <th></th>\n",
       "      <th>id</th>\n",
       "      <th>rating</th>\n",
       "    </tr>\n",
       "  </thead>\n",
       "  <tbody>\n",
       "    <tr>\n",
       "      <th>0</th>\n",
       "      <td>0</td>\n",
       "      <td>3.500829</td>\n",
       "    </tr>\n",
       "    <tr>\n",
       "      <th>1</th>\n",
       "      <td>1</td>\n",
       "      <td>1.276242</td>\n",
       "    </tr>\n",
       "    <tr>\n",
       "      <th>2</th>\n",
       "      <td>2</td>\n",
       "      <td>2.945291</td>\n",
       "    </tr>\n",
       "    <tr>\n",
       "      <th>3</th>\n",
       "      <td>3</td>\n",
       "      <td>3.264039</td>\n",
       "    </tr>\n",
       "    <tr>\n",
       "      <th>4</th>\n",
       "      <td>4</td>\n",
       "      <td>1.000000</td>\n",
       "    </tr>\n",
       "  </tbody>\n",
       "</table>\n",
       "</div>"
      ],
      "text/plain": [
       "   id    rating\n",
       "0   0  3.500829\n",
       "1   1  1.276242\n",
       "2   2  2.945291\n",
       "3   3  3.264039\n",
       "4   4  1.000000"
      ]
     },
     "execution_count": 3,
     "metadata": {},
     "output_type": "execute_result"
    }
   ],
   "source": [
    "sample_submission.head()"
   ]
  },
  {
   "cell_type": "code",
   "execution_count": 4,
   "metadata": {},
   "outputs": [
    {
     "name": "stdout",
     "output_type": "stream",
     "text": [
      "Books df shape: (16599, 2)\n",
      "Train df shape: (100523, 3)\n"
     ]
    }
   ],
   "source": [
    "print(f\"Books df shape: {books.shape}\")\n",
    "print(f\"Train df shape: {train.shape}\")"
   ]
  },
  {
   "cell_type": "code",
   "execution_count": 5,
   "metadata": {},
   "outputs": [
    {
     "name": "stdout",
     "output_type": "stream",
     "text": [
      "Test ratings df shape: (29367, 4)\n"
     ]
    },
    {
     "data": {
      "text/html": [
       "<div>\n",
       "<style scoped>\n",
       "    .dataframe tbody tr th:only-of-type {\n",
       "        vertical-align: middle;\n",
       "    }\n",
       "\n",
       "    .dataframe tbody tr th {\n",
       "        vertical-align: top;\n",
       "    }\n",
       "\n",
       "    .dataframe thead th {\n",
       "        text-align: right;\n",
       "    }\n",
       "</style>\n",
       "<table border=\"1\" class=\"dataframe\">\n",
       "  <thead>\n",
       "    <tr style=\"text-align: right;\">\n",
       "      <th></th>\n",
       "      <th>id</th>\n",
       "      <th>book_id</th>\n",
       "      <th>user_id</th>\n",
       "      <th>rating</th>\n",
       "    </tr>\n",
       "  </thead>\n",
       "  <tbody>\n",
       "    <tr>\n",
       "      <th>0</th>\n",
       "      <td>0</td>\n",
       "      <td>3786</td>\n",
       "      <td>40484</td>\n",
       "      <td>3.500829</td>\n",
       "    </tr>\n",
       "    <tr>\n",
       "      <th>1</th>\n",
       "      <td>1</td>\n",
       "      <td>1985</td>\n",
       "      <td>47039</td>\n",
       "      <td>1.276242</td>\n",
       "    </tr>\n",
       "    <tr>\n",
       "      <th>2</th>\n",
       "      <td>2</td>\n",
       "      <td>2290</td>\n",
       "      <td>60111</td>\n",
       "      <td>2.945291</td>\n",
       "    </tr>\n",
       "    <tr>\n",
       "      <th>3</th>\n",
       "      <td>3</td>\n",
       "      <td>118657</td>\n",
       "      <td>64447</td>\n",
       "      <td>3.264039</td>\n",
       "    </tr>\n",
       "    <tr>\n",
       "      <th>4</th>\n",
       "      <td>4</td>\n",
       "      <td>1560</td>\n",
       "      <td>2953</td>\n",
       "      <td>1.000000</td>\n",
       "    </tr>\n",
       "  </tbody>\n",
       "</table>\n",
       "</div>"
      ],
      "text/plain": [
       "   id  book_id  user_id    rating\n",
       "0   0     3786    40484  3.500829\n",
       "1   1     1985    47039  1.276242\n",
       "2   2     2290    60111  2.945291\n",
       "3   3   118657    64447  3.264039\n",
       "4   4     1560     2953  1.000000"
      ]
     },
     "metadata": {},
     "output_type": "display_data"
    }
   ],
   "source": [
    "test = test.merge(sample_submission, on='id', how='left')\n",
    "#test = test.merge(books, on='book_id', how='left')\n",
    "print(f\"Test ratings df shape: {test.shape}\")\n",
    "display(test.head())"
   ]
  },
  {
   "cell_type": "code",
   "execution_count": 6,
   "metadata": {},
   "outputs": [
    {
     "data": {
      "text/html": [
       "<div>\n",
       "<style scoped>\n",
       "    .dataframe tbody tr th:only-of-type {\n",
       "        vertical-align: middle;\n",
       "    }\n",
       "\n",
       "    .dataframe tbody tr th {\n",
       "        vertical-align: top;\n",
       "    }\n",
       "\n",
       "    .dataframe thead th {\n",
       "        text-align: right;\n",
       "    }\n",
       "</style>\n",
       "<table border=\"1\" class=\"dataframe\">\n",
       "  <thead>\n",
       "    <tr style=\"text-align: right;\">\n",
       "      <th></th>\n",
       "      <th>book_id</th>\n",
       "      <th>user_id</th>\n",
       "      <th>rating</th>\n",
       "    </tr>\n",
       "  </thead>\n",
       "  <tbody>\n",
       "    <tr>\n",
       "      <th>0</th>\n",
       "      <td>7260</td>\n",
       "      <td>20145</td>\n",
       "      <td>3.5</td>\n",
       "    </tr>\n",
       "    <tr>\n",
       "      <th>1</th>\n",
       "      <td>243238</td>\n",
       "      <td>85182</td>\n",
       "      <td>4.0</td>\n",
       "    </tr>\n",
       "    <tr>\n",
       "      <th>2</th>\n",
       "      <td>9135</td>\n",
       "      <td>45973</td>\n",
       "      <td>1.0</td>\n",
       "    </tr>\n",
       "    <tr>\n",
       "      <th>3</th>\n",
       "      <td>18671</td>\n",
       "      <td>63554</td>\n",
       "      <td>3.0</td>\n",
       "    </tr>\n",
       "    <tr>\n",
       "      <th>4</th>\n",
       "      <td>243293</td>\n",
       "      <td>81002</td>\n",
       "      <td>5.0</td>\n",
       "    </tr>\n",
       "  </tbody>\n",
       "</table>\n",
       "</div>"
      ],
      "text/plain": [
       "   book_id  user_id  rating\n",
       "0     7260    20145     3.5\n",
       "1   243238    85182     4.0\n",
       "2     9135    45973     1.0\n",
       "3    18671    63554     3.0\n",
       "4   243293    81002     5.0"
      ]
     },
     "execution_count": 6,
     "metadata": {},
     "output_type": "execute_result"
    }
   ],
   "source": [
    "train.head()"
   ]
  },
  {
   "cell_type": "markdown",
   "metadata": {},
   "source": [
    "# Simple ML models:"
   ]
  },
  {
   "cell_type": "markdown",
   "metadata": {},
   "source": [
    "## Linear Regression"
   ]
  },
  {
   "cell_type": "code",
   "execution_count": 7,
   "metadata": {},
   "outputs": [],
   "source": [
    "X_test = test[['book_id', 'user_id']].to_numpy()\n",
    "y_test = test['rating'].to_numpy()\n",
    "\n",
    "X_train = train[['book_id', 'user_id']].to_numpy()\n",
    "y_train = train['rating'].to_numpy()"
   ]
  },
  {
   "cell_type": "code",
   "execution_count": 8,
   "metadata": {},
   "outputs": [],
   "source": [
    "model = LinearRegression()\n",
    "model.fit(X_train, y_train)\n",
    "y_pred = model.predict(X_test)"
   ]
  },
  {
   "cell_type": "code",
   "execution_count": 9,
   "metadata": {},
   "outputs": [
    {
     "name": "stdout",
     "output_type": "stream",
     "text": [
      "Mean squared error: 1.1677357358426437\n"
     ]
    }
   ],
   "source": [
    "## Mean squared error\n",
    "mse = 0\n",
    "for i in range(len(y_pred)):\n",
    "    mse += (y_pred[i] - y_test[i])**2\n",
    "mse /= len(y_pred)\n",
    "print(f\"Mean squared error: {mse}\")"
   ]
  },
  {
   "cell_type": "code",
   "execution_count": 10,
   "metadata": {},
   "outputs": [],
   "source": [
    "result_lr = pd.DataFrame({'id': test['id'], 'rating': y_pred})\n",
    "result_lr.to_csv('submission_lr.csv', index=False) # Kaggle: 0.90800 (good start)"
   ]
  },
  {
   "cell_type": "markdown",
   "metadata": {},
   "source": [
    "# Matrix Factorization (Collaborative Filtering) --> to be optimized"
   ]
  },
  {
   "cell_type": "code",
   "execution_count": 11,
   "metadata": {},
   "outputs": [],
   "source": [
    "import torch"
   ]
  },
  {
   "cell_type": "code",
   "execution_count": 12,
   "metadata": {},
   "outputs": [],
   "source": [
    "train_df = train.copy()\n",
    "\n",
    "book_mapping = {book_id: idx for idx, book_id in enumerate(train_df['book_id'].unique())}\n",
    "user_mapping = {user_id: idx for idx, user_id in enumerate(train_df['user_id'].unique())}\n",
    "\n",
    "train_df['book_idx'] = train_df['book_id'].map(book_mapping)\n",
    "train_df['user_idx'] = train_df['user_id'].map(user_mapping)\n",
    "\n",
    "test_df = test.copy()\n",
    "test_df['book_idx'] = test_df['book_id'].map(book_mapping)\n",
    "test_df['user_idx'] = test_df['user_id'].map(user_mapping)"
   ]
  },
  {
   "cell_type": "code",
   "execution_count": 13,
   "metadata": {},
   "outputs": [],
   "source": [
    "import torch.nn as nn\n",
    "\n",
    "class MatrixFactorization(nn.Module):\n",
    "    def __init__(self, num_users, num_books, embedding_dim):\n",
    "        super(MatrixFactorization, self).__init__()\n",
    "        self.user_embedding = nn.Embedding(num_users, embedding_dim)\n",
    "        self.book_embedding = nn.Embedding(num_books, embedding_dim)\n",
    "    \n",
    "    def forward(self, user_idx, book_idx):\n",
    "        # Compute dot product of user and book latent factors\n",
    "        user_factors = self.user_embedding(user_idx)\n",
    "        book_factors = self.book_embedding(book_idx)\n",
    "        return (user_factors * book_factors).sum(1)"
   ]
  },
  {
   "cell_type": "code",
   "execution_count": 14,
   "metadata": {},
   "outputs": [
    {
     "name": "stdout",
     "output_type": "stream",
     "text": [
      "Epoch 1, Loss: 56.6036\n",
      "Epoch 2, Loss: 56.5995\n",
      "Epoch 3, Loss: 56.5954\n",
      "Epoch 4, Loss: 56.5913\n",
      "Epoch 5, Loss: 56.5872\n",
      "Epoch 6, Loss: 56.5831\n",
      "Epoch 7, Loss: 56.5790\n",
      "Epoch 8, Loss: 56.5749\n",
      "Epoch 9, Loss: 56.5708\n",
      "Epoch 10, Loss: 56.5667\n"
     ]
    }
   ],
   "source": [
    "embedding_dim = 50\n",
    "num_users = len(user_mapping)\n",
    "num_books = len(book_mapping)\n",
    "learning_rate = 0.01\n",
    "epochs = 10\n",
    "\n",
    "model = MatrixFactorization(num_users, num_books, embedding_dim)\n",
    "criterion = nn.MSELoss()\n",
    "optimizer = torch.optim.SGD(model.parameters(), lr=learning_rate)\n",
    "\n",
    "train_users = torch.tensor(train_df['user_idx'].values, dtype=torch.long)\n",
    "train_books = torch.tensor(train_df['book_idx'].values, dtype=torch.long)\n",
    "train_ratings = torch.tensor(train_df['rating'].values, dtype=torch.float32)\n",
    "\n",
    "for epoch in range(epochs):\n",
    "    model.train()\n",
    "    \n",
    "    optimizer.zero_grad()\n",
    "    \n",
    "    predictions = model(train_users, train_books)\n",
    "    loss = criterion(predictions, train_ratings)\n",
    "\n",
    "    loss.backward()\n",
    "    optimizer.step()\n",
    "    \n",
    "    print(f\"Epoch {epoch+1}, Loss: {loss.item():.4f}\")\n"
   ]
  },
  {
   "cell_type": "code",
   "execution_count": 15,
   "metadata": {},
   "outputs": [],
   "source": [
    "test_users = torch.tensor(test_df['user_idx'].values, dtype=torch.long)\n",
    "test_books = torch.tensor(test_df['book_idx'].values, dtype=torch.long)\n",
    "\n",
    "model.eval()\n",
    "with torch.no_grad():\n",
    "    test_predictions = model(test_users, test_books)\n",
    "\n",
    "test_df['predicted_rating'] = test_predictions.numpy()"
   ]
  },
  {
   "cell_type": "code",
   "execution_count": 16,
   "metadata": {},
   "outputs": [],
   "source": [
    "# Replace values that are <1 or >5 with 1 and 5, respectively, in test_predictions\n",
    "test_predictions = test_predictions.clamp(1, 5)"
   ]
  },
  {
   "cell_type": "code",
   "execution_count": 17,
   "metadata": {},
   "outputs": [
    {
     "name": "stdout",
     "output_type": "stream",
     "text": [
      "Test MSE: 57.5657\n"
     ]
    }
   ],
   "source": [
    "test_users = torch.tensor(test_df['user_idx'].values, dtype=torch.long)\n",
    "test_books = torch.tensor(test_df['book_idx'].values, dtype=torch.long)\n",
    "test_ratings = torch.tensor(test_df['rating'].values, dtype=torch.float32)\n",
    "\n",
    "model.eval()  \n",
    "with torch.no_grad():  \n",
    "    test_predictions = model(test_users, test_books)\n",
    "    \n",
    "criterion = nn.MSELoss()\n",
    "mse = criterion(test_predictions, test_ratings)\n",
    "print(f\"Test MSE: {mse.item():.4f}\")"
   ]
  },
  {
   "cell_type": "code",
   "execution_count": 18,
   "metadata": {},
   "outputs": [],
   "source": [
    "result = pd.DataFrame({'id': test[\"id\"], 'rating': test_predictions})\n",
    "result.to_csv('submission.csv', index=False) # Kaggle: 1.97917 (Not good at all)"
   ]
  },
  {
   "cell_type": "code",
   "execution_count": null,
   "metadata": {},
   "outputs": [],
   "source": []
  }
 ],
 "metadata": {
  "kernelspec": {
   "display_name": "myenv",
   "language": "python",
   "name": "python3"
  },
  "language_info": {
   "codemirror_mode": {
    "name": "ipython",
    "version": 3
   },
   "file_extension": ".py",
   "mimetype": "text/x-python",
   "name": "python",
   "nbconvert_exporter": "python",
   "pygments_lexer": "ipython3",
   "version": "3.9.18"
  }
 },
 "nbformat": 4,
 "nbformat_minor": 2
}
