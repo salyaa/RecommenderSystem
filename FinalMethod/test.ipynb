{
 "cells": [
  {
   "cell_type": "markdown",
   "metadata": {},
   "source": [
    "### Using SVD to predict the ratings of books"
   ]
  },
  {
   "cell_type": "markdown",
   "metadata": {},
   "source": [
    "Make sure  files are saved as follows:\n",
    "\n",
    "```plaintext\n",
    ".\n",
    "├── data/\n",
    "│   ├── train.csv\n",
    "│   └── test.csv\n",
    "├── helpers.py\n",
    "└── test.ipynb\n",
    "```"
   ]
  },
  {
   "cell_type": "code",
   "execution_count": 2,
   "metadata": {},
   "outputs": [
    {
     "name": "stdout",
     "output_type": "stream",
     "text": [
      "Submission file saved at: ./submission.csv\n"
     ]
    }
   ],
   "source": [
    "import pandas as pd\n",
    "from surprise import Dataset, Reader\n",
    "from helpers import SVD\n",
    "\n",
    "# load data\n",
    "train_data_path = \"./data/train.csv\"\n",
    "test_data_path = \"./data/test.csv\"\n",
    "\n",
    "train_df = pd.read_csv(train_data_path)\n",
    "test_df = pd.read_csv(test_data_path)\n",
    "\n",
    "# define the Reader object, whrere the rating scale is from 0 to 5\n",
    "reader = Reader(rating_scale=(0, 5))  \n",
    "\n",
    "# transform the pandas DataFrame into a Surprise Dataset\n",
    "data = Dataset.load_from_df(train_df[['user_id', 'book_id', 'rating']], reader)\n",
    "\n",
    "# construct the trainset\n",
    "trainset = data.build_full_trainset()\n",
    "\n",
    "# use the SVD algorithm\n",
    "model = SVD(n_factors=50, n_epochs=30, reg_all=0.1, random_state=42, lr_all=0.007)\n",
    "\n",
    "# train the model\n",
    "model.fit(trainset)\n",
    "\n",
    "# make predictions on the test set\n",
    "submission = []\n",
    "for _, row in test_df.iterrows():\n",
    "    user_id = row['user_id']\n",
    "    book_id = row['book_id']\n",
    "    unique_id = row['id']  \n",
    "    # make prediction\n",
    "    predicted_rating = model.predict(user_id, book_id).est\n",
    "    # save the prediction\n",
    "    submission.append({'id': unique_id, 'rating': predicted_rating})\n",
    "\n",
    "# transform the submission list into a pandas DataFrame\n",
    "submission_df = pd.DataFrame(submission)\n",
    "\n",
    "# save the submission file\n",
    "submission_file_path = \"./submission.csv\"\n",
    "submission_df.to_csv(submission_file_path, index=False)\n",
    "\n",
    "print(f\"Submission file saved at: {submission_file_path}\")"
   ]
  },
  {
   "cell_type": "code",
   "execution_count": null,
   "metadata": {},
   "outputs": [],
   "source": []
  }
 ],
 "metadata": {
  "kernelspec": {
   "display_name": "disprojectii",
   "language": "python",
   "name": "python3"
  },
  "language_info": {
   "codemirror_mode": {
    "name": "ipython",
    "version": 3
   },
   "file_extension": ".py",
   "mimetype": "text/x-python",
   "name": "python",
   "nbconvert_exporter": "python",
   "pygments_lexer": "ipython3",
   "version": "3.12.3"
  }
 },
 "nbformat": 4,
 "nbformat_minor": 2
}
